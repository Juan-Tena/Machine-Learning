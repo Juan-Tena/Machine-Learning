{
 "cells": [
  {
   "cell_type": "markdown",
   "metadata": {},
   "source": [
    "# Carga de datos a traves de la función read_csv"
   ]
  },
  {
   "cell_type": "code",
   "execution_count": 4,
   "metadata": {},
   "outputs": [],
   "source": [
    "import pandas as pd"
   ]
  },
  {
   "cell_type": "code",
   "execution_count": 5,
   "metadata": {},
   "outputs": [],
   "source": [
    "data = pd.read_csv(\"titanic3.csv\")"
   ]
  },
  {
   "cell_type": "code",
   "execution_count": 58,
   "metadata": {
    "scrolled": true
   },
   "outputs": [
    {
     "name": "stdout",
     "output_type": "stream",
     "text": [
      "   Column_Names\n",
      "0             A\n",
      "1             B\n",
      "2             C\n",
      "3             D\n",
      "4             E\n",
      "5             F\n",
      "6             G\n",
      "7             H\n",
      "8             I\n",
      "9             J\n",
      "10            K\n",
      "11            L\n",
      "12            M\n",
      "13            N\n",
      "14            O\n",
      "15            P\n",
      "16            Q\n",
      "17            R\n",
      "18            S\n",
      "19            T\n",
      "20            U\n"
     ]
    },
    {
     "data": {
      "text/plain": [
       "['A',\n",
       " 'B',\n",
       " 'C',\n",
       " 'D',\n",
       " 'E',\n",
       " 'F',\n",
       " 'G',\n",
       " 'H',\n",
       " 'I',\n",
       " 'J',\n",
       " 'K',\n",
       " 'L',\n",
       " 'M',\n",
       " 'N',\n",
       " 'O',\n",
       " 'P',\n",
       " 'Q',\n",
       " 'R',\n",
       " 'S',\n",
       " 'T',\n",
       " 'U']"
      ]
     },
     "execution_count": 58,
     "metadata": {},
     "output_type": "execute_result"
    }
   ],
   "source": [
    "\n",
    "data_cols=pd.read_csv(\"C:/Users/juan_/Documents/GitHub/Machine-Learning/Tema 1 - Titanic/Customer Churn Columns.csv\")\n",
    "print(data_cols)\n",
    "data_col_list=data_cols[\"Column_Names\"].tolist()\n",
    "data_col_list"
   ]
  },
  {
   "cell_type": "markdown",
   "metadata": {},
   "source": [
    "# Carga de datos a través de la función open"
   ]
  },
  {
   "cell_type": "code",
   "execution_count": 48,
   "metadata": {},
   "outputs": [],
   "source": [
    "data6=open(mainPath+\"Tema 1 - Titanic/Customer Churn Model.txt\", \"r\")"
   ]
  },
  {
   "cell_type": "code",
   "execution_count": 49,
   "metadata": {},
   "outputs": [],
   "source": [
    "cols = data6.readline().strip().split(\",\")"
   ]
  },
  {
   "cell_type": "code",
   "execution_count": 52,
   "metadata": {},
   "outputs": [],
   "source": [
    "n_cols=len(cols)"
   ]
  },
  {
   "cell_type": "code",
   "execution_count": 57,
   "metadata": {},
   "outputs": [
    {
     "name": "stdout",
     "output_type": "stream",
     "text": [
      "El data set tiene 3333 fileas y 21 columnas\n"
     ]
    }
   ],
   "source": [
    "for line in data6:\n",
    "\tvalues=line.strip().split(\",\")\n",
    "\tfor i in range(len(cols)):\n",
    "\t\tmain_Dict[cols[i]].append(values[i])\n",
    "\tcounter+=1\n",
    "print(\"El data set tiene %d fileas y %d columnas\" % (counter, n_cols))"
   ]
  },
  {
   "cell_type": "code",
   "execution_count": null,
   "metadata": {},
   "outputs": [],
   "source": []
  }
 ],
 "metadata": {
  "kernelspec": {
   "display_name": "Python 3",
   "language": "python",
   "name": "python3"
  },
  "language_info": {
   "codemirror_mode": {
    "name": "ipython",
    "version": 3
   },
   "file_extension": ".py",
   "mimetype": "text/x-python",
   "name": "python",
   "nbconvert_exporter": "python",
   "pygments_lexer": "ipython3",
   "version": "3.7.4"
  }
 },
 "nbformat": 4,
 "nbformat_minor": 2
}
